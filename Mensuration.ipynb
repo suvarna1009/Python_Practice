{
 "cells": [
  {
   "cell_type": "code",
   "execution_count": 3,
   "id": "a5555246",
   "metadata": {},
   "outputs": [
    {
     "name": "stdout",
     "output_type": "stream",
     "text": [
      "enter the length 8\n",
      "enter the breadth 9\n",
      "The area of rectangle is 72.0\n"
     ]
    }
   ],
   "source": [
    "length=float(input(\"enter the length \"))\n",
    "breadth=float(input(\"enter the breadth \"))\n",
    "Area_of_rectangle=length*breadth\n",
    "print(\"The area of rectangle is\",Area_of_rectangle)"
   ]
  },
  {
   "cell_type": "code",
   "execution_count": 6,
   "id": "21bc0b8f",
   "metadata": {},
   "outputs": [
    {
     "name": "stdout",
     "output_type": "stream",
     "text": [
      "enter the first number 5\n",
      "enter the second number 6\n",
      "addition of first and second number 11\n"
     ]
    }
   ],
   "source": [
    "a=int(input(\"enter the first number \"))\n",
    "b=int(input(\"enter the second number \"))\n",
    "addition_of_first_and_second_number=a+b\n",
    "print(\"addition of first and second number\",addition_of_first_and_second_number)\n"
   ]
  },
  {
   "cell_type": "code",
   "execution_count": 8,
   "id": "118655db",
   "metadata": {},
   "outputs": [
    {
     "name": "stdout",
     "output_type": "stream",
     "text": [
      "enter the length 4\n",
      "enter the breadth 5\n",
      "The area of rectangle 20.0\n"
     ]
    }
   ],
   "source": [
    "#asking the user to enter the length and breadth of the rectangle\n",
    "\n",
    "length=float(input(\"enter the length \"))\n",
    "breadth=float(input(\"enter the breadth \"))\n",
    "\n",
    "#calculating the area of rectangle\n",
    "\n",
    "Area_of_rectangle=length*breadth\n",
    "\n",
    "#print calculated area of rectangle\n",
    "\n",
    "print(\"The area of rectangle\",Area_of_rectangle)\n"
   ]
  },
  {
   "cell_type": "code",
   "execution_count": 10,
   "id": "1bfab865",
   "metadata": {},
   "outputs": [
    {
     "name": "stdout",
     "output_type": "stream",
     "text": [
      "enter the length 5\n",
      "enter the breadth 5\n",
      "The perimeter of rectangle 20.0\n"
     ]
    }
   ],
   "source": [
    "#asking the user to enter the length and breadth of rectangle\n",
    "\n",
    "length=float(input(\"enter the length \"))\n",
    "breadth=float(input(\"enter the breadth \"))\n",
    "\n",
    "#calculating the perimeter of the rectangle\n",
    "\n",
    "Perimeter_of_rectangle=2*(length+breadth)\n",
    "\n",
    "#calculate the perimeter of rectangle\n",
    "\n",
    "print(\"The perimeter of rectangle\",Perimeter_of_rectangle)"
   ]
  },
  {
   "cell_type": "code",
   "execution_count": 11,
   "id": "80bafc4b",
   "metadata": {},
   "outputs": [
    {
     "name": "stdout",
     "output_type": "stream",
     "text": [
      "enter the principle 10\n",
      "enter the rate 10\n",
      "enter the time 10\n",
      "simple intrest 10.0\n"
     ]
    }
   ],
   "source": [
    "#asking the user to enter the principle, rate and time value\n",
    "\n",
    "principle=float(input(\"enter the principle \"))\n",
    "rate=float(input(\"enter the rate \"))\n",
    "time=float(input(\"enter the time \"))\n",
    "\n",
    "#calculate simple intrest\n",
    "\n",
    "simple_intrest=(principle*rate*time)/100\n",
    "\n",
    "#calculate simple intrest\n",
    "\n",
    "print(\"simple intrest\",simple_intrest)\n"
   ]
  },
  {
   "cell_type": "code",
   "execution_count": 14,
   "id": "bc001ce9",
   "metadata": {},
   "outputs": [
    {
     "name": "stdout",
     "output_type": "stream",
     "text": [
      "enter the value of temprature in celcius10\n",
      "temprature in faranite 50.0\n"
     ]
    }
   ],
   "source": [
    "#asking the user to enter the value of faranite and celcius\n",
    "\n",
    "c=float(input(\"enter the value of temprature in celcius\"))\n",
    "f=((9/5)*c)+32\n",
    "print(\"temprature in faranite\",f)"
   ]
  },
  {
   "cell_type": "code",
   "execution_count": 15,
   "id": "4ad09c04",
   "metadata": {},
   "outputs": [
    {
     "name": "stdout",
     "output_type": "stream",
     "text": [
      "enter the radius of circle 5\n",
      "area 78.5\n",
      "circumference 31.400000000000002\n"
     ]
    }
   ],
   "source": [
    "#area and circumference of a circle\n",
    "\n",
    "r=float(input(\"enter the radius of circle \"))\n",
    "A=3.14*r**2\n",
    "c=2*3.14*r\n",
    "print(\"area\",A)\n",
    "print(\"circumference\",c)\n"
   ]
  },
  {
   "cell_type": "code",
   "execution_count": 17,
   "id": "870eee79",
   "metadata": {},
   "outputs": [
    {
     "name": "stdout",
     "output_type": "stream",
     "text": [
      "enter the value of side 2\n",
      "enter the value of length3\n",
      "enter the value of breadth4\n",
      "enter the value of height5\n",
      "area of cube 12\n",
      "area of cuboid 94\n",
      "volume of cube 27\n",
      "volume of cuboid 1410\n"
     ]
    }
   ],
   "source": [
    "#surface area and volume of cube and cuboid\n",
    "\n",
    "s= int(input(\"enter the value of side \"))\n",
    "l=int(input(\"enter the value of length\"))\n",
    "b=int(input(\"enter the value of breadth\"))\n",
    "h=int(input(\"enter the value of height\"))\n",
    "a=6*s\n",
    "b=2*(l*b+b*h+l*h)\n",
    "c=l*l*l\n",
    "d=l*b*h\n",
    "print(\"area of cube\",a)\n",
    "print(\"area of cuboid\",b)\n",
    "print(\"volume of cube\",c)\n",
    "print(\"volume of cuboid\",d)"
   ]
  },
  {
   "cell_type": "code",
   "execution_count": 33,
   "id": "301de146",
   "metadata": {},
   "outputs": [
    {
     "name": "stdout",
     "output_type": "stream",
     "text": [
      "enter the value of side 5\n"
     ]
    },
    {
     "ename": "TypeError",
     "evalue": "'tuple' object is not callable",
     "output_type": "error",
     "traceback": [
      "\u001b[1;31m---------------------------------------------------------------------------\u001b[0m",
      "\u001b[1;31mTypeError\u001b[0m                                 Traceback (most recent call last)",
      "\u001b[1;32m~\\AppData\\Local\\Temp/ipykernel_9360/3696344832.py\u001b[0m in \u001b[0;36m<module>\u001b[1;34m\u001b[0m\n\u001b[0;32m      2\u001b[0m \u001b[0ms\u001b[0m\u001b[1;33m=\u001b[0m\u001b[0mfloat\u001b[0m\u001b[1;33m(\u001b[0m\u001b[0minput\u001b[0m\u001b[1;33m(\u001b[0m\u001b[1;34m\"enter the value of side \"\u001b[0m\u001b[1;33m)\u001b[0m\u001b[1;33m)\u001b[0m\u001b[1;33m\u001b[0m\u001b[1;33m\u001b[0m\u001b[0m\n\u001b[0;32m      3\u001b[0m \u001b[0ma\u001b[0m\u001b[1;33m=\u001b[0m\u001b[1;33m(\u001b[0m\u001b[1;33m(\u001b[0m\u001b[1;36m3\u001b[0m\u001b[1;33m**\u001b[0m\u001b[1;36m0.5\u001b[0m\u001b[1;33m)\u001b[0m\u001b[1;33m/\u001b[0m\u001b[1;36m4\u001b[0m\u001b[1;33m)\u001b[0m\u001b[1;33m*\u001b[0m\u001b[0ms\u001b[0m\u001b[1;33m**\u001b[0m\u001b[1;36m2\u001b[0m\u001b[1;33m\u001b[0m\u001b[1;33m\u001b[0m\u001b[0m\n\u001b[1;32m----> 4\u001b[1;33m \u001b[0mprint\u001b[0m\u001b[1;33m(\u001b[0m\u001b[1;34m\"area\"\u001b[0m\u001b[1;33m,\u001b[0m\u001b[0ma\u001b[0m\u001b[1;33m)\u001b[0m\u001b[1;33m\u001b[0m\u001b[1;33m\u001b[0m\u001b[0m\n\u001b[0m",
      "\u001b[1;31mTypeError\u001b[0m: 'tuple' object is not callable"
     ]
    }
   ],
   "source": [
    "#equilateral triangle\n",
    "s=float(input(\"enter the value of side \"))\n",
    "a=((3**0.5)/4)*s**2\n",
    "print(\"area\",a)"
   ]
  },
  {
   "cell_type": "code",
   "execution_count": null,
   "id": "8e1d2011",
   "metadata": {},
   "outputs": [],
   "source": []
  },
  {
   "cell_type": "code",
   "execution_count": null,
   "id": "7d227b88",
   "metadata": {},
   "outputs": [],
   "source": []
  }
 ],
 "metadata": {
  "kernelspec": {
   "display_name": "Python 3 (ipykernel)",
   "language": "python",
   "name": "python3"
  },
  "language_info": {
   "codemirror_mode": {
    "name": "ipython",
    "version": 3
   },
   "file_extension": ".py",
   "mimetype": "text/x-python",
   "name": "python",
   "nbconvert_exporter": "python",
   "pygments_lexer": "ipython3",
   "version": "3.9.7"
  }
 },
 "nbformat": 4,
 "nbformat_minor": 5
}
